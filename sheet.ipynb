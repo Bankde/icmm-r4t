{
 "cells": [
  {
   "cell_type": "code",
   "execution_count": null,
   "metadata": {},
   "outputs": [],
   "source": [
    "from teamspread import TeamSpread\n",
    "import random\n",
    "import json\n",
    "\n",
    "def load_json_config(config_path):\n",
    "    config = None\n",
    "    with open(config_path) as f:\n",
    "        config = json.load(f)\n",
    "    return config\n",
    "\n",
    "config_path = \"./config.json\"\n",
    "config = load_json_config(config_path)\n",
    "spread_conf = config[\"spreadsheet\"]\n",
    "\n",
    "credentials_path = spread_conf[\"credentials\"],\n",
    "spread_key = spread_conf[\"spreadsheetKey\"]\n",
    "sheet_name = spread_conf[\"worksheet\"]\n",
    "\n",
    "team_spread = TeamSpread(credentials_path, spread_key, sheet_name)"
   ]
  },
  {
   "cell_type": "code",
   "execution_count": null,
   "metadata": {},
   "outputs": [],
   "source": [
    "team_data = []\n",
    "for i in range(0,201):\n",
    "    mock_time = random.randint(0,1000)\n",
    "    team = [i+1, mock_time, \"team%d\" % (i+1), \"runner1\", \"runner2\", \"runner3\", \"runner4\"]\n",
    "    team_data.append(team)"
   ]
  },
  {
   "cell_type": "code",
   "execution_count": null,
   "metadata": {},
   "outputs": [],
   "source": [
    "team_spread.update_team(team_data)"
   ]
  }
 ],
 "metadata": {
  "kernelspec": {
   "display_name": "Python 3",
   "language": "python",
   "name": "python3"
  },
  "language_info": {
   "codemirror_mode": {
    "name": "ipython",
    "version": 3
   },
   "file_extension": ".py",
   "mimetype": "text/x-python",
   "name": "python",
   "nbconvert_exporter": "python",
   "pygments_lexer": "ipython3",
   "version": "3.6.3"
  }
 },
 "nbformat": 4,
 "nbformat_minor": 2
}
